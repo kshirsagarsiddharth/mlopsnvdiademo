{
 "cells": [
  {
   "cell_type": "code",
   "execution_count": 21,
   "metadata": {},
   "outputs": [],
   "source": [
    "import joblib \n",
    "import pandas as pd \n",
    "from sklearn.linear_model import LogisticRegression \n",
    "from sklearn.model_selection import train_test_split \n",
    "\n",
    "from sklearn.datasets import load_iris\n",
    "def run_training():\n",
    "    data = load_iris()\n",
    "\n",
    "    df = pd.DataFrame(data['data'], columns=[f.replace(\"(cm)\",\"\") for f in data['feature_names']])\n",
    "    df['target'] = data['target']\n",
    "    X = df.drop('target', axis=1).copy() \n",
    "    y = df['target'].copy()\n",
    "\n",
    "\n",
    "\n",
    "    X_train, X_test, y_train, y_test = train_test_split(\n",
    "            X, y, test_size=0.25, random_state=26)\n",
    "\n",
    "    model = LogisticRegression(random_state=32) \n",
    "    model.fit(X_train,y_train) \n",
    "\n",
    "    joblib.dump(model, 'logistic_regression.joblib')\n",
    "if __name__ == \"__main__\": \n",
    "    run_training()"
   ]
  },
  {
   "cell_type": "code",
   "execution_count": 20,
   "metadata": {},
   "outputs": [],
   "source": []
  },
  {
   "cell_type": "code",
   "execution_count": 39,
   "metadata": {},
   "outputs": [],
   "source": [
    "# predict.py\n",
    "import joblib\n",
    "import pandas as pd\n",
    "import numpy as np\n",
    "\n",
    "model = joblib.load(\"logistic_regression.joblib\")\n",
    "\n",
    "\n",
    "def make_prediction(inputs):\n",
    "    inputs_df = pd.DataFrame(\n",
    "        np.array([inputs]),\n",
    "        columns=[\"sepal length \", \"sepal width \", \"petal length \", \"petal width \"],\n",
    "    )\n",
    "    predictions = model.predict(inputs_df)\n",
    "    return predictions"
   ]
  },
  {
   "cell_type": "code",
   "execution_count": 2,
   "metadata": {},
   "outputs": [
    {
     "name": "stdout",
     "output_type": "stream",
     "text": [
      " * Serving Flask app '__main__'\n",
      " * Debug mode: off\n"
     ]
    },
    {
     "name": "stderr",
     "output_type": "stream",
     "text": [
      "WARNING: This is a development server. Do not use it in a production deployment. Use a production WSGI server instead.\n",
      " * Running on http://127.0.0.1:5000\n",
      "Press CTRL+C to quit\n",
      "127.0.0.1 - - [03/May/2023 17:56:37] \"GET / HTTP/1.1\" 200 -\n",
      "127.0.0.1 - - [03/May/2023 17:56:37] \"GET /favicon.ico HTTP/1.1\" 404 -\n",
      "127.0.0.1 - - [03/May/2023 17:56:51] \"GET /predict HTTP/1.1\" 405 -\n"
     ]
    }
   ],
   "source": [
    "# main.py \n",
    "import numpy as np \n",
    "from flask import Flask, request \n",
    "from predict import make_prediction \n",
    "\n",
    "\n",
    "app = Flask(__name__) \n",
    "\n",
    "@app.route(\"/\", methods = ['GET']) \n",
    "def index(): \n",
    "    body = (\n",
    "        \"<html>\"\n",
    "        \"<body style='padding: 10px;'>\"\n",
    "        \"<h1>Welcome to my Flask API</h1>\"\n",
    "        \"</body>\"\n",
    "        \"</html>\"\n",
    "    )\n",
    "\n",
    "    return body \n",
    "\n",
    "@app.route(\"/predict\", methods = ['POST']) \n",
    "def predict(): \n",
    "    data_json = request.get_json() \n",
    "    sepal_length_cm = data_json['sepal_length_cm'] \n",
    "    sepal_width_cm = data_json['sepal_width_cm'] \n",
    "\n",
    "    petal_length_cm = data_json['petal_length_cm'] \n",
    "    petal_width_cm = data_json['petal_width_cm'] \n",
    "\n",
    "    data = np.array([[sepal_length_cm,\n",
    "                      sepal_width_cm, \n",
    "                      petal_length_cm, \n",
    "                      petal_width_cm]])\n",
    "    \n",
    "    predictions = make_prediction(data)\n",
    "\n",
    "    return str(predictions)\n",
    "\n",
    "if __name__ == \"__main__\": \n",
    "    app.run()\n",
    "    \n",
    "\n",
    "\n"
   ]
  },
  {
   "cell_type": "code",
   "execution_count": 37,
   "metadata": {},
   "outputs": [],
   "source": []
  },
  {
   "cell_type": "code",
   "execution_count": 38,
   "metadata": {},
   "outputs": [
    {
     "data": {
      "text/plain": [
       "array([0])"
      ]
     },
     "execution_count": 38,
     "metadata": {},
     "output_type": "execute_result"
    }
   ],
   "source": [
    "predictions"
   ]
  },
  {
   "cell_type": "code",
   "execution_count": null,
   "metadata": {},
   "outputs": [],
   "source": []
  }
 ],
 "metadata": {
  "kernelspec": {
   "display_name": "base",
   "language": "python",
   "name": "python3"
  },
  "language_info": {
   "codemirror_mode": {
    "name": "ipython",
    "version": 3
   },
   "file_extension": ".py",
   "mimetype": "text/x-python",
   "name": "python",
   "nbconvert_exporter": "python",
   "pygments_lexer": "ipython3",
   "version": "3.9.13"
  },
  "orig_nbformat": 4
 },
 "nbformat": 4,
 "nbformat_minor": 2
}
